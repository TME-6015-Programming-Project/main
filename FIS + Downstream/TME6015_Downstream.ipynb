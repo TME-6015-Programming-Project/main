{
 "cells": [
  {
   "cell_type": "markdown",
   "metadata": {},
   "source": [
    "# **Introduction:** \n",
    "\n",
    "This file serves to host the downstream integration of our project for TME 6015: AI/ML Workflow Design. The integration that was used pertains to a simulated task allocation scenario within a warehouse environment. Tasks within the warehouse can have three different load requirements: *Small*, *Medium*, or *Large*, and robots can have a similar load capacity denoted by *Small*, *Medium*, or *Large*.\n",
    "\n",
    "Robots are also defined by their distance to the task, their load history, and their travel history. The goal is therefore to:\n",
    "\n",
    "* Allocate a robot with a matching capability to the task requirement;\n",
    "* Prioritize robots with a low load history;\n",
    "* Prioritize robots that are closer to the task;\n",
    "* Prioritize robots that have not travelled far at the time of allocation, and;\n",
    "* To accomplish the aforementioned goals using our ANN architecture. \n",
    "\n",
    "**Date Created: 25/11/2024**\n",
    "\n",
    "**Date Modified: 25/11/2024**"
   ]
  },
  {
   "cell_type": "markdown",
   "metadata": {},
   "source": [
    "# **Import Packages:**\n",
    "\n",
    "Need to import the following packages for this simulation."
   ]
  },
  {
   "cell_type": "code",
   "execution_count": null,
   "metadata": {},
   "outputs": [],
   "source": [
    "# import packages:\n",
    "\n",
    "import numpy as np\n",
    "import matplotlib.pyplot as plt\n",
    "import cv2\n",
    "import os\n",
    "import sys\n",
    "import tkinter as tk\n",
    "import pandas as pd\n",
    "import time"
   ]
  }
 ],
 "metadata": {
  "kernelspec": {
   "display_name": "Python 3",
   "language": "python",
   "name": "python3"
  },
  "language_info": {
   "name": "python",
   "version": "3.12.5"
  }
 },
 "nbformat": 4,
 "nbformat_minor": 2
}
