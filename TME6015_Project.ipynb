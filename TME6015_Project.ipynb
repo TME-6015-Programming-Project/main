{
 "cells": [
  {
   "cell_type": "markdown",
   "metadata": {},
   "source": [
    "# (Optional) Check hardware for available GPU\n",
    "\n",
    "In this section, I am using tensorflow to check for available GPUs and (if possible) set memory growth across the GPUs"
   ]
  },
  {
   "cell_type": "code",
   "execution_count": 1,
   "metadata": {},
   "outputs": [
    {
     "name": "stdout",
     "output_type": "stream",
     "text": [
      "1 Physical GPUs, 1 Logical GPUs\n"
     ]
    }
   ],
   "source": [
    "import tensorflow as tf\n",
    "\n",
    "gpus = tf.config.list_physical_devices('GPU')\n",
    "if gpus:\n",
    "  try:\n",
    "    # Currently, memory growth needs to be the same across GPUs\n",
    "    for gpu in gpus:\n",
    "      tf.config.experimental.set_memory_growth(gpu, True)\n",
    "    logical_gpus = tf.config.list_logical_devices('GPU')\n",
    "    print(len(gpus), \"Physical GPUs,\", len(logical_gpus), \"Logical GPUs\")\n",
    "  except RuntimeError as e:\n",
    "    # Memory growth must be set before GPUs have been initialized\n",
    "    print(e)"
   ]
  },
  {
   "cell_type": "markdown",
   "metadata": {},
   "source": [
    "# Library and data import"
   ]
  },
  {
   "cell_type": "code",
   "execution_count": 2,
   "metadata": {},
   "outputs": [
    {
     "name": "stderr",
     "output_type": "stream",
     "text": [
      "c:\\Users\\caomi\\anaconda3\\envs\\tf\\lib\\site-packages\\tqdm\\auto.py:21: TqdmWarning: IProgress not found. Please update jupyter and ipywidgets. See https://ipywidgets.readthedocs.io/en/stable/user_install.html\n",
      "  from .autonotebook import tqdm as notebook_tqdm\n"
     ]
    }
   ],
   "source": [
    "import pandas as pd                                     # For reading and working with tabular csv data\n",
    "import tensorflow as tf                                 # General machine learning functionalities\n",
    "import tensorflow_datasets as tfds\n",
    "from tensorflow import keras\n",
    "from tensorflow.keras import layers, models\n",
    "from tensorflow.keras.utils import Sequence             # For creating data generators for training\n",
    "import numpy as np\n",
    "import matplotlib.pyplot as plt                         # To visualize model training process\n",
    "from sklearn.model_selection import train_test_split\n",
    "\n",
    "\n"
   ]
  },
  {
   "cell_type": "markdown",
   "metadata": {},
   "source": [
    "# Data Discovery and Processing"
   ]
  },
  {
   "cell_type": "code",
   "execution_count": 3,
   "metadata": {},
   "outputs": [],
   "source": [
    "feature_csv_path = \"data/inputs.csv\"\n",
    "label_csv_path = \"data/outputs.csv\"\n",
    "\n",
    "# Load features and labels\n",
    "features_df = pd.read_csv(feature_csv_path)\n",
    "label_df = pd.read_csv(label_csv_path)"
   ]
  },
  {
   "cell_type": "markdown",
   "metadata": {},
   "source": [
    "## Data inspection and discovery"
   ]
  },
  {
   "cell_type": "code",
   "execution_count": 4,
   "metadata": {},
   "outputs": [
    {
     "name": "stdout",
     "output_type": "stream",
     "text": [
      "Dimension of feature dataframe:  (10000, 3)\n"
     ]
    },
    {
     "data": {
      "text/html": [
       "<div>\n",
       "<style scoped>\n",
       "    .dataframe tbody tr th:only-of-type {\n",
       "        vertical-align: middle;\n",
       "    }\n",
       "\n",
       "    .dataframe tbody tr th {\n",
       "        vertical-align: top;\n",
       "    }\n",
       "\n",
       "    .dataframe thead th {\n",
       "        text-align: right;\n",
       "    }\n",
       "</style>\n",
       "<table border=\"1\" class=\"dataframe\">\n",
       "  <thead>\n",
       "    <tr style=\"text-align: right;\">\n",
       "      <th></th>\n",
       "      <th>Load History</th>\n",
       "      <th>Distance to Task</th>\n",
       "      <th>Total Distance Traveled</th>\n",
       "    </tr>\n",
       "  </thead>\n",
       "  <tbody>\n",
       "    <tr>\n",
       "      <th>0</th>\n",
       "      <td>0.0</td>\n",
       "      <td>18.124</td>\n",
       "      <td>0.000</td>\n",
       "    </tr>\n",
       "    <tr>\n",
       "      <th>1</th>\n",
       "      <td>0.0</td>\n",
       "      <td>24.937</td>\n",
       "      <td>0.000</td>\n",
       "    </tr>\n",
       "    <tr>\n",
       "      <th>2</th>\n",
       "      <td>0.0</td>\n",
       "      <td>13.756</td>\n",
       "      <td>0.000</td>\n",
       "    </tr>\n",
       "    <tr>\n",
       "      <th>3</th>\n",
       "      <td>0.0</td>\n",
       "      <td>8.911</td>\n",
       "      <td>0.000</td>\n",
       "    </tr>\n",
       "    <tr>\n",
       "      <th>4</th>\n",
       "      <td>1.0</td>\n",
       "      <td>5.263</td>\n",
       "      <td>18.124</td>\n",
       "    </tr>\n",
       "    <tr>\n",
       "      <th>5</th>\n",
       "      <td>0.0</td>\n",
       "      <td>23.882</td>\n",
       "      <td>0.000</td>\n",
       "    </tr>\n",
       "    <tr>\n",
       "      <th>6</th>\n",
       "      <td>0.0</td>\n",
       "      <td>11.881</td>\n",
       "      <td>0.000</td>\n",
       "    </tr>\n",
       "    <tr>\n",
       "      <th>7</th>\n",
       "      <td>1.0</td>\n",
       "      <td>5.213</td>\n",
       "      <td>8.911</td>\n",
       "    </tr>\n",
       "    <tr>\n",
       "      <th>8</th>\n",
       "      <td>2.0</td>\n",
       "      <td>9.394</td>\n",
       "      <td>23.387</td>\n",
       "    </tr>\n",
       "    <tr>\n",
       "      <th>9</th>\n",
       "      <td>0.0</td>\n",
       "      <td>25.775</td>\n",
       "      <td>0.000</td>\n",
       "    </tr>\n",
       "  </tbody>\n",
       "</table>\n",
       "</div>"
      ],
      "text/plain": [
       "   Load History  Distance to Task  Total Distance Traveled\n",
       "0           0.0            18.124                    0.000\n",
       "1           0.0            24.937                    0.000\n",
       "2           0.0            13.756                    0.000\n",
       "3           0.0             8.911                    0.000\n",
       "4           1.0             5.263                   18.124\n",
       "5           0.0            23.882                    0.000\n",
       "6           0.0            11.881                    0.000\n",
       "7           1.0             5.213                    8.911\n",
       "8           2.0             9.394                   23.387\n",
       "9           0.0            25.775                    0.000"
      ]
     },
     "execution_count": 4,
     "metadata": {},
     "output_type": "execute_result"
    }
   ],
   "source": [
    "print(f\"Dimension of feature dataframe: \",features_df.shape)\n",
    "INPUT_SHAPE = features_df.shape[1]                              # represents the input shape for the ANN\n",
    "\n",
    "features_df.head(10)"
   ]
  },
  {
   "cell_type": "code",
   "execution_count": 5,
   "metadata": {},
   "outputs": [
    {
     "name": "stdout",
     "output_type": "stream",
     "text": [
      "Dimension of label dataframe:  (10000, 1)\n"
     ]
    },
    {
     "data": {
      "text/html": [
       "<div>\n",
       "<style scoped>\n",
       "    .dataframe tbody tr th:only-of-type {\n",
       "        vertical-align: middle;\n",
       "    }\n",
       "\n",
       "    .dataframe tbody tr th {\n",
       "        vertical-align: top;\n",
       "    }\n",
       "\n",
       "    .dataframe thead th {\n",
       "        text-align: right;\n",
       "    }\n",
       "</style>\n",
       "<table border=\"1\" class=\"dataframe\">\n",
       "  <thead>\n",
       "    <tr style=\"text-align: right;\">\n",
       "      <th></th>\n",
       "      <th>Suitability</th>\n",
       "    </tr>\n",
       "  </thead>\n",
       "  <tbody>\n",
       "    <tr>\n",
       "      <th>0</th>\n",
       "      <td>4.95</td>\n",
       "    </tr>\n",
       "    <tr>\n",
       "      <th>1</th>\n",
       "      <td>3.56</td>\n",
       "    </tr>\n",
       "    <tr>\n",
       "      <th>2</th>\n",
       "      <td>6.03</td>\n",
       "    </tr>\n",
       "    <tr>\n",
       "      <th>3</th>\n",
       "      <td>7.82</td>\n",
       "    </tr>\n",
       "    <tr>\n",
       "      <th>4</th>\n",
       "      <td>6.82</td>\n",
       "    </tr>\n",
       "    <tr>\n",
       "      <th>5</th>\n",
       "      <td>3.57</td>\n",
       "    </tr>\n",
       "    <tr>\n",
       "      <th>6</th>\n",
       "      <td>6.71</td>\n",
       "    </tr>\n",
       "    <tr>\n",
       "      <th>7</th>\n",
       "      <td>7.15</td>\n",
       "    </tr>\n",
       "    <tr>\n",
       "      <th>8</th>\n",
       "      <td>5.28</td>\n",
       "    </tr>\n",
       "    <tr>\n",
       "      <th>9</th>\n",
       "      <td>3.56</td>\n",
       "    </tr>\n",
       "  </tbody>\n",
       "</table>\n",
       "</div>"
      ],
      "text/plain": [
       "   Suitability\n",
       "0         4.95\n",
       "1         3.56\n",
       "2         6.03\n",
       "3         7.82\n",
       "4         6.82\n",
       "5         3.57\n",
       "6         6.71\n",
       "7         7.15\n",
       "8         5.28\n",
       "9         3.56"
      ]
     },
     "execution_count": 5,
     "metadata": {},
     "output_type": "execute_result"
    }
   ],
   "source": [
    "print(f\"Dimension of label dataframe: \",label_df.shape)\n",
    "label_df.head(10)"
   ]
  },
  {
   "cell_type": "markdown",
   "metadata": {},
   "source": [
    "## Convert dataframe to numpy arrays"
   ]
  },
  {
   "cell_type": "code",
   "execution_count": 6,
   "metadata": {},
   "outputs": [],
   "source": [
    "features_array = features_df.to_numpy()\n",
    "label_array = label_df.to_numpy()"
   ]
  },
  {
   "cell_type": "markdown",
   "metadata": {},
   "source": [
    "## Train-Test Split"
   ]
  },
  {
   "cell_type": "code",
   "execution_count": 7,
   "metadata": {},
   "outputs": [],
   "source": [
    "# Split the training data to test set and (train+validation) set\n",
    "X_train, X_test, y_train, y_test = train_test_split(features_array,\n",
    "                                                    label_array,\n",
    "                                                    test_size=0.2,\n",
    "                                                    random_state=12)\n",
    "\n",
    "# Split the (train + validation) set to train set and validation set\n",
    "X_train, X_val, y_train, y_val = train_test_split(X_train,\n",
    "                                                  y_train,\n",
    "                                                  test_size=0.2,\n",
    "                                                  random_state=12)"
   ]
  },
  {
   "cell_type": "code",
   "execution_count": 8,
   "metadata": {},
   "outputs": [
    {
     "name": "stdout",
     "output_type": "stream",
     "text": [
      "There are 6400 samples in the train set\n",
      "There are 1600 samples in the validation set\n",
      "There are 2000 samples in the test set\n"
     ]
    }
   ],
   "source": [
    "print(f\"There are {X_train.shape[0]} samples in the train set\\n\"\n",
    "      f\"There are {X_val.shape[0]} samples in the validation set\\n\"\n",
    "      f\"There are {X_test.shape[0]} samples in the test set\")"
   ]
  },
  {
   "cell_type": "code",
   "execution_count": 9,
   "metadata": {},
   "outputs": [],
   "source": [
    "class DataGenerator(Sequence):\n",
    "    def __init__(self, x_set, y_set, batch_size):\n",
    "        self.x, self.y = x_set, y_set\n",
    "        self.batch_size = batch_size\n",
    "\n",
    "    def __len__(self):\n",
    "        return int(np.ceil(len(self.x) / float(self.batch_size)))\n",
    "\n",
    "    def __getitem__(self, idx):\n",
    "        batch_x = self.x[idx * self.batch_size:(idx + 1) * self.batch_size]\n",
    "        batch_y = self.y[idx * self.batch_size:(idx + 1) * self.batch_size]\n",
    "        return batch_x, batch_y\n",
    "    \n",
    "BATCH_SIZE = 32\n",
    "\n",
    "# These generator objects will generate BATCH_SIZE samples at a time from the specified nparray\n",
    "train_gen = DataGenerator(X_train,y_train,BATCH_SIZE)\n",
    "val_gen = DataGenerator(X_val,y_val,BATCH_SIZE)\n",
    "test_gen = DataGenerator(X_test,y_test,BATCH_SIZE)"
   ]
  },
  {
   "cell_type": "markdown",
   "metadata": {},
   "source": [
    "# Model Construction"
   ]
  },
  {
   "cell_type": "code",
   "execution_count": null,
   "metadata": {},
   "outputs": [
    {
     "name": "stdout",
     "output_type": "stream",
     "text": [
      "Epoch 1/50\n",
      "200/200 [==============================] - 2s 5ms/step - loss: 19.9846 - mae: 4.4228 - val_loss: 19.4721 - val_mae: 4.3631\n",
      "Epoch 2/50\n",
      "200/200 [==============================] - 1s 5ms/step - loss: 15.6002 - mae: 3.9188 - val_loss: 11.1526 - val_mae: 3.3252\n",
      "Epoch 3/50\n",
      "200/200 [==============================] - 1s 5ms/step - loss: 11.2151 - mae: 3.3175 - val_loss: 6.3490 - val_mae: 2.5003\n",
      "Epoch 4/50\n",
      "200/200 [==============================] - 2s 11ms/step - loss: 7.1787 - mae: 2.6409 - val_loss: 4.1973 - val_mae: 2.0307\n",
      "Epoch 5/50\n",
      "200/200 [==============================] - 3s 13ms/step - loss: 3.9917 - mae: 1.9492 - val_loss: 2.5093 - val_mae: 1.5733\n",
      "Epoch 6/50\n",
      "200/200 [==============================] - 3s 13ms/step - loss: 1.9043 - mae: 1.3173 - val_loss: 0.9339 - val_mae: 0.9510\n",
      "Epoch 7/50\n",
      "200/200 [==============================] - 3s 13ms/step - loss: 0.7959 - mae: 0.8097 - val_loss: 0.2527 - val_mae: 0.4776\n",
      "Epoch 8/50\n",
      "200/200 [==============================] - 2s 12ms/step - loss: 0.3338 - mae: 0.4805 - val_loss: 0.0612 - val_mae: 0.2059\n",
      "Epoch 9/50\n",
      "200/200 [==============================] - 2s 12ms/step - loss: 0.1837 - mae: 0.3392 - val_loss: 0.0731 - val_mae: 0.2115\n",
      "Epoch 10/50\n",
      "200/200 [==============================] - 3s 13ms/step - loss: 0.1473 - mae: 0.2983 - val_loss: 0.0322 - val_mae: 0.1355\n",
      "Epoch 11/50\n",
      "200/200 [==============================] - 3s 13ms/step - loss: 0.1396 - mae: 0.2897 - val_loss: 0.0286 - val_mae: 0.1245\n",
      "Epoch 12/50\n",
      "200/200 [==============================] - 3s 13ms/step - loss: 0.1371 - mae: 0.2875 - val_loss: 0.0289 - val_mae: 0.1247\n",
      "Epoch 13/50\n",
      "200/200 [==============================] - 3s 13ms/step - loss: 0.1365 - mae: 0.2871 - val_loss: 0.0325 - val_mae: 0.1381\n",
      "Epoch 14/50\n",
      "200/200 [==============================] - 2s 12ms/step - loss: 0.1355 - mae: 0.2861 - val_loss: 0.0341 - val_mae: 0.1306\n",
      "Epoch 15/50\n",
      "200/200 [==============================] - 2s 12ms/step - loss: 0.1359 - mae: 0.2856 - val_loss: 0.0680 - val_mae: 0.2013\n",
      "Epoch 16/50\n",
      "200/200 [==============================] - 2s 12ms/step - loss: 0.1365 - mae: 0.2878 - val_loss: 0.0295 - val_mae: 0.1289\n",
      "Epoch 17/50\n",
      "200/200 [==============================] - 3s 13ms/step - loss: 0.1348 - mae: 0.2855 - val_loss: 0.0220 - val_mae: 0.1025\n",
      "Epoch 18/50\n",
      "200/200 [==============================] - 3s 13ms/step - loss: 0.1338 - mae: 0.2846 - val_loss: 0.0301 - val_mae: 0.1241\n",
      "Epoch 19/50\n",
      "200/200 [==============================] - 3s 13ms/step - loss: 0.1344 - mae: 0.2849 - val_loss: 0.0423 - val_mae: 0.1661\n",
      "Epoch 20/50\n",
      "200/200 [==============================] - 3s 13ms/step - loss: 0.1338 - mae: 0.2840 - val_loss: 0.0398 - val_mae: 0.1464\n",
      "Epoch 21/50\n",
      "200/200 [==============================] - 3s 13ms/step - loss: 0.1335 - mae: 0.2848 - val_loss: 0.0209 - val_mae: 0.0947\n",
      "Epoch 22/50\n",
      "200/200 [==============================] - 3s 13ms/step - loss: 0.1335 - mae: 0.2850 - val_loss: 0.0265 - val_mae: 0.1205\n",
      "Epoch 23/50\n",
      "200/200 [==============================] - 2s 12ms/step - loss: 0.1331 - mae: 0.2840 - val_loss: 0.0191 - val_mae: 0.0987\n",
      "Epoch 24/50\n",
      "200/200 [==============================] - 3s 13ms/step - loss: 0.1327 - mae: 0.2841 - val_loss: 0.0281 - val_mae: 0.1213\n",
      "Epoch 25/50\n",
      "200/200 [==============================] - 2s 12ms/step - loss: 0.1328 - mae: 0.2838 - val_loss: 0.0330 - val_mae: 0.1276\n",
      "Epoch 26/50\n",
      "200/200 [==============================] - 3s 12ms/step - loss: 0.1326 - mae: 0.2836 - val_loss: 0.0229 - val_mae: 0.0947\n",
      "Epoch 27/50\n",
      "200/200 [==============================] - 2s 12ms/step - loss: 0.1318 - mae: 0.2824 - val_loss: 0.0300 - val_mae: 0.1210\n",
      "Epoch 28/50\n",
      "200/200 [==============================] - 3s 13ms/step - loss: 0.1327 - mae: 0.2838 - val_loss: 0.0318 - val_mae: 0.1270\n",
      "Epoch 29/50\n",
      "200/200 [==============================] - 3s 14ms/step - loss: 0.1314 - mae: 0.2817 - val_loss: 0.0236 - val_mae: 0.1152\n",
      "Epoch 30/50\n",
      "200/200 [==============================] - 3s 14ms/step - loss: 0.1316 - mae: 0.2829 - val_loss: 0.0239 - val_mae: 0.1064\n",
      "Epoch 31/50\n",
      "200/200 [==============================] - 3s 13ms/step - loss: 0.1312 - mae: 0.2816 - val_loss: 0.0230 - val_mae: 0.1078\n",
      "Epoch 32/50\n",
      "200/200 [==============================] - 3s 13ms/step - loss: 0.1302 - mae: 0.2805 - val_loss: 0.0269 - val_mae: 0.1218\n",
      "Epoch 33/50\n",
      "200/200 [==============================] - 3s 13ms/step - loss: 0.1306 - mae: 0.2809 - val_loss: 0.0236 - val_mae: 0.1006\n",
      "Epoch 34/50\n",
      "200/200 [==============================] - 2s 12ms/step - loss: 0.1302 - mae: 0.2793 - val_loss: 0.0282 - val_mae: 0.1254\n",
      "Epoch 35/50\n",
      "200/200 [==============================] - 3s 13ms/step - loss: 0.1302 - mae: 0.2797 - val_loss: 0.0253 - val_mae: 0.1199\n",
      "Epoch 36/50\n",
      "200/200 [==============================] - 3s 13ms/step - loss: 0.1300 - mae: 0.2796 - val_loss: 0.0335 - val_mae: 0.1414\n",
      "Epoch 37/50\n",
      "200/200 [==============================] - 3s 13ms/step - loss: 0.1299 - mae: 0.2800 - val_loss: 0.0217 - val_mae: 0.1004\n",
      "Epoch 38/50\n",
      "200/200 [==============================] - 2s 10ms/step - loss: 0.1301 - mae: 0.2798 - val_loss: 0.0399 - val_mae: 0.1402\n",
      "Epoch 39/50\n",
      "200/200 [==============================] - 1s 5ms/step - loss: 0.1292 - mae: 0.2800 - val_loss: 0.0180 - val_mae: 0.0881\n",
      "Epoch 40/50\n",
      "200/200 [==============================] - 1s 5ms/step - loss: 0.1305 - mae: 0.2797 - val_loss: 0.0197 - val_mae: 0.0914\n",
      "Epoch 41/50\n",
      "200/200 [==============================] - 2s 11ms/step - loss: 0.1299 - mae: 0.2811 - val_loss: 0.0341 - val_mae: 0.1341\n",
      "Epoch 42/50\n",
      "200/200 [==============================] - 2s 11ms/step - loss: 0.1287 - mae: 0.2781 - val_loss: 0.0185 - val_mae: 0.0953\n",
      "Epoch 43/50\n",
      "200/200 [==============================] - 3s 13ms/step - loss: 0.1290 - mae: 0.2788 - val_loss: 0.0216 - val_mae: 0.1003\n",
      "Epoch 44/50\n",
      "200/200 [==============================] - 3s 13ms/step - loss: 0.1295 - mae: 0.2790 - val_loss: 0.0300 - val_mae: 0.1297\n",
      "Epoch 45/50\n",
      "200/200 [==============================] - 3s 13ms/step - loss: 0.1296 - mae: 0.2796 - val_loss: 0.0720 - val_mae: 0.2048\n",
      "Epoch 46/50\n",
      "200/200 [==============================] - 3s 13ms/step - loss: 0.1290 - mae: 0.2788 - val_loss: 0.0264 - val_mae: 0.1256\n",
      "Epoch 47/50\n",
      "200/200 [==============================] - 3s 13ms/step - loss: 0.1286 - mae: 0.2796 - val_loss: 0.0275 - val_mae: 0.1160\n",
      "Epoch 48/50\n",
      "200/200 [==============================] - 3s 13ms/step - loss: 0.1293 - mae: 0.2789 - val_loss: 0.0217 - val_mae: 0.1073\n",
      "Epoch 49/50\n",
      "200/200 [==============================] - 3s 14ms/step - loss: 0.1289 - mae: 0.2799 - val_loss: 0.0291 - val_mae: 0.1134\n",
      "Epoch 50/50\n",
      "200/200 [==============================] - 3s 13ms/step - loss: 0.1286 - mae: 0.2789 - val_loss: 0.0262 - val_mae: 0.1249\n"
     ]
    }
   ],
   "source": [
    "def build_model(layer_widths, input_shape, activation='relu', learning_rate=0.001):\n",
    "    \"\"\"\n",
    "    Creates a Keras Sequential model based on the specified architecture.\n",
    "\n",
    "    Args:\n",
    "        layer_widths (list): A list where each element is the number of nodes in a layer.\n",
    "        input_shape (tuple): Shape of the input data (e.g., (num_features,)).\n",
    "        activation (str): Activation function to use in the hidden layers.\n",
    "        learning_rate (float): Learning rate for the optimizer.\n",
    "\n",
    "    Returns:\n",
    "        model (Sequential): A compiled Keras Sequential model.\n",
    "    \"\"\"\n",
    "    model = keras.Sequential()\n",
    "\n",
    "    # Add additional hidden layers based on layer_widths\n",
    "    for i,width in enumerate(layer_widths):\n",
    "        if i==0: \n",
    "            model.add(layers.Dense(width, activation=activation, input_shape=input_shape))\n",
    "        else: \n",
    "            model.add(layers.Dense(width, activation=activation))\n",
    "        model.add(layers.BatchNormalization())\n",
    "\n",
    "    # Add the output layer (no activation for regression)\n",
    "    model.add(layers.Dense(1,name = \"Output_layer\"))\n",
    "\n",
    "    # Compile the model with a regression-friendly loss function\n",
    "    model.compile(optimizer=keras.optimizers.Adam(learning_rate=learning_rate), \n",
    "                  loss='mse', \n",
    "                  metrics=['mae'])\n",
    "    \n",
    "    return model\n",
    "\n",
    "layer_widths = [64,32,1]\n",
    "LEARNING_RATE = 0.001\n",
    "EPOCH = 50\n",
    "tf.keras.backend.clear_session()\n",
    "model = build_model(layer_widths = layer_widths,\n",
    "                    input_shape= (INPUT_SHAPE,),\n",
    "                    learning_rate=LEARNING_RATE)\n",
    "\n",
    "history = model.fit(train_gen,\n",
    "                    batch_size=BATCH_SIZE,\n",
    "                    validation_data=val_gen,\n",
    "                    epochs = EPOCH)"
   ]
  },
  {
   "cell_type": "code",
   "execution_count": 60,
   "metadata": {},
   "outputs": [],
   "source": [
    "def plot_performance(history, learning_rate=None, batch_size=None, finetune_epochs=None):\n",
    "  plt.figure(figsize=(10,5))\n",
    "\n",
    "  # history_data = history.history\n",
    "\n",
    "  # Determine whether history is keras history or a dictionary to appropriately extract the history data\n",
    "  if isinstance(history, keras.callbacks.History):\n",
    "    history_data = history.history        # Extract the history dictionary\n",
    "  else:\n",
    "    history_data = history                # Assume it's already a dictionary\n",
    "\n",
    "  # Accuracy of model training and validation vs training epoch\n",
    "  plt.subplot(1,2,1)\n",
    "  ylim_acc = [0, max(max(history_data['mae']),max(history_data['val_mae']))]\n",
    "  plt.plot(history_data['mae'], label = 'Training MAE')\n",
    "  plt.plot(history_data['val_mae'], label = 'Validation MAE')\n",
    "  plt.ylim(ylim_acc)\n",
    "  if finetune_epochs:\n",
    "    plt.plot([finetune_epochs-1, finetune_epochs-1],plt.ylim(), label = 'Fine tuning')\n",
    "  else:\n",
    "    pass\n",
    "\n",
    "  if learning_rate and batch_size:\n",
    "    plt.title(f'Model mae \\n lr = {learning_rate}, batch size = {batch_size}')\n",
    "  else: plt.title('Model mae')\n",
    "\n",
    "  plt.ylabel('mae')\n",
    "  plt.xlabel('Epoch')\n",
    "  plt.legend(loc='lower right')\n",
    "\n",
    "  # Loss during model training and validation\n",
    "  plt.subplot(1,2,2)\n",
    "  ylim_loss = [0, max(max(history_data['loss']),max(history_data['val_loss']))]\n",
    "  # ylim_loss=[0,2.5]\n",
    "  # print(len(history_data['loss']))\n",
    "  plt.plot(history_data['loss'], label = 'Training loss')\n",
    "  plt.plot(history_data['val_loss'], label = 'Validation loss')\n",
    "  plt.ylim(ylim_loss)\n",
    "  if finetune_epochs:\n",
    "    plt.plot([finetune_epochs-1, finetune_epochs-1],plt.ylim(), label = 'Fine tuning')\n",
    "  else:\n",
    "    pass\n",
    "\n",
    "  if learning_rate and batch_size:\n",
    "    plt.title(f'Model loss \\n lr = {learning_rate}, batch size = {batch_size}')\n",
    "  else: plt.title('Model loss')\n",
    "  plt.ylabel('Loss')\n",
    "  plt.xlabel('Epoch')\n",
    "  plt.legend(loc='lower right')\n",
    "  plt.show()\n",
    "\n",
    "  print(f\"The model has a training ae of {history_data['mae'][-1]:.2f}\\n\"\n",
    "      f\"The model has a validation val_mae of {history_data['val_mae'][-1]:.2f}\")\n",
    "  return"
   ]
  },
  {
   "cell_type": "code",
   "execution_count": 61,
   "metadata": {},
   "outputs": [
    {
     "data": {
      "image/png": "[encoded data removed]",
      "text/plain": [
       "<Figure size 1000x500 with 2 Axes>"
      ]
     },
     "metadata": {},
     "output_type": "display_data"
    },
    {
     "name": "stdout",
     "output_type": "stream",
     "text": [
      "The model has a training ae of 0.28\n",
      "The model has a validation val_mae of 0.12\n"
     ]
    }
   ],
   "source": [
    "plot_performance(history)"
   ]
  },
  {
   "cell_type": "code",
   "execution_count": 75,
   "metadata": {},
   "outputs": [],
   "source": [
    "## Model prediction and performance"
   ]
  },
  {
   "cell_type": "code",
   "execution_count": 76,
   "metadata": {},
   "outputs": [
    {
     "name": "stdout",
     "output_type": "stream",
     "text": [
      "63/63 [==============================] - 1s 11ms/step - loss: 0.0283 - mae: 0.1271\n"
     ]
    },
    {
     "data": {
      "text/plain": [
       "[0.028295647352933884, 0.12705260515213013]"
      ]
     },
     "execution_count": 76,
     "metadata": {},
     "output_type": "execute_result"
    }
   ],
   "source": [
    "model.evaluate(test_gen)"
   ]
  },
  {
   "cell_type": "code",
   "execution_count": 77,
   "metadata": {},
   "outputs": [
    {
     "name": "stdout",
     "output_type": "stream",
     "text": [
      "63/63 [==============================] - 0s 3ms/step\n"
     ]
    }
   ],
   "source": [
    "y_pred = model.predict(X_test)"
   ]
  },
  {
   "cell_type": "code",
   "execution_count": 94,
   "metadata": {},
   "outputs": [
    {
     "data": {
      "image/png": "[encoded data removed]",
      "text/plain": [
       "<Figure size 640x480 with 1 Axes>"
      ]
     },
     "metadata": {},
     "output_type": "display_data"
    }
   ],
   "source": [
    "# Scatter plot of actual vs predicted values\n",
    "plt.scatter(y_test, y_pred,s=3)\n",
    "plt.plot([min(y_test), max(y_test)], [min(y_test), max(y_test)], color='red', lw=2)\n",
    "plt.gca().set_aspect('equal', adjustable='box')\n",
    "\n",
    "plt.xlabel('Actual values')\n",
    "plt.ylabel('Predicted values')\n",
    "plt.title('Actual vs Predicted')\n",
    "\n",
    "plt.grid(which='major', color='gray', linestyle='-', linewidth=0.25)\n",
    "plt.grid(which='minor', color='gray', linestyle=':', linewidth=0.5)\n",
    "plt.minorticks_on()\n",
    "\n",
    "plt.show()"
   ]
  },
  {
   "cell_type": "code",
   "execution_count": 74,
   "metadata": {},
   "outputs": [
    {
     "data": {
      "image/png": "[encoded data removed]",
      "text/plain": [
       "<Figure size 640x480 with 1 Axes>"
      ]
     },
     "metadata": {},
     "output_type": "display_data"
    }
   ],
   "source": [
    "errors = y_test - y_pred\n",
    "plt.hist(errors, bins=50)\n",
    "plt.xlabel('Prediction Error')\n",
    "plt.ylabel('Frequency')\n",
    "plt.title('Histogram of Prediction Errors')\n",
    "plt.show()"
   ]
  }
 ],
 "metadata": {
  "kernelspec": {
   "display_name": "tf",
   "language": "python",
   "name": "python3"
  },
  "language_info": {
   "codemirror_mode": {
    "name": "ipython",
    "version": 3
   },
   "file_extension": ".py",
   "mimetype": "text/x-python",
   "name": "python",
   "nbconvert_exporter": "python",
   "pygments_lexer": "ipython3",
   "version": "3.9.20"
  }
 },
 "nbformat": 4,
 "nbformat_minor": 2
}
